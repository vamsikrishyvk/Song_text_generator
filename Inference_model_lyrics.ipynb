{
  "nbformat": 4,
  "nbformat_minor": 0,
  "metadata": {
    "colab": {
      "provenance": []
    },
    "kernelspec": {
      "name": "python3",
      "display_name": "Python 3"
    },
    "language_info": {
      "name": "python"
    }
  },
  "cells": [
    {
      "cell_type": "code",
      "execution_count": 1,
      "metadata": {
        "colab": {
          "base_uri": "https://localhost:8080/"
        },
        "id": "gc04cV0XW758",
        "outputId": "1617695a-8354-4d15-9966-ba8f2c2da948"
      },
      "outputs": [
        {
          "output_type": "stream",
          "name": "stdout",
          "text": [
            "  Preparing metadata (setup.py) ... \u001b[?25l\u001b[?25hdone\n",
            "  Building wheel for gpt-2-simple (setup.py) ... \u001b[?25l\u001b[?25hdone\n"
          ]
        }
      ],
      "source": [
        "!pip install -q gpt-2-simple\n",
        "import gpt_2_simple as gpt2\n",
        "from datetime import datetime\n",
        "from google.colab import files"
      ]
    },
    {
      "cell_type": "code",
      "source": [
        "files.upload()"
      ],
      "metadata": {
        "id": "iqhsVGKiXG9P"
      },
      "execution_count": null,
      "outputs": []
    },
    {
      "cell_type": "code",
      "source": [
        "!unzip -q /content/new_data.zip"
      ],
      "metadata": {
        "id": "B4Kp0kWvXG_b"
      },
      "execution_count": 4,
      "outputs": []
    },
    {
      "cell_type": "code",
      "source": [
        "gpt2.copy_checkpoint_from_gdrive(run_name='run3')\n",
        "sess = gpt2.start_tf_sess()\n",
        "gpt2.load_gpt2(sess, run_name='run3')"
      ],
      "metadata": {
        "colab": {
          "base_uri": "https://localhost:8080/"
        },
        "id": "wk70j-S3XHB8",
        "outputId": "babf1762-3646-42fc-b9d3-1ee8998f11ac"
      },
      "execution_count": 2,
      "outputs": [
        {
          "output_type": "stream",
          "name": "stdout",
          "text": [
            "Loading checkpoint checkpoint/run3/model-1500\n"
          ]
        }
      ]
    },
    {
      "cell_type": "code",
      "source": [
        "# gpt2.generate(sess, run_name='run3')"
      ],
      "metadata": {
        "id": "-bXaIaHKX90E"
      },
      "execution_count": null,
      "outputs": []
    },
    {
      "cell_type": "code",
      "source": [],
      "metadata": {
        "id": "JLgfqglsX95j"
      },
      "execution_count": null,
      "outputs": []
    },
    {
      "cell_type": "code",
      "source": [
        "import pandas as pd\n",
        "df = pd.read_csv('/content/content/content/lyrics_test.csv')\n",
        "print([ x for x in df['lyrics'][0:1]])"
      ],
      "metadata": {
        "colab": {
          "base_uri": "https://localhost:8080/"
        },
        "id": "Txn5xPpzYa4W",
        "outputId": "5e8e80e1-b6f3-44a9-d559-00c3f74acd0b"
      },
      "execution_count": 6,
      "outputs": [
        {
          "output_type": "stream",
          "name": "stdout",
          "text": [
            "['151 ContributorsTranslationsTürkçeFrançaisEspañolPortuguêsPolskiStyle Lyrics[Verse 1]\\nMidnight\\nYou come and pick me up, no headlights\\nA long drive\\nCould end in burning flames or paradise\\nFade into view, oh\\nIt\\'s been a while since I have even heard from you\\n(Heard from you)\\n\\n[Pre-Chorus]\\nAnd I should just tell you to leave\\n\\'Cause I know exactly where it leads\\nBut I watch us go \\'round and \\'round each time\\n[Chorus]\\nYou got that James Dean daydream look in your eye\\nAnd I got that red lip classic thing that you like\\nAnd when we go crashing down, we come back every time\\n\\'Cause we never go out of style, we never go out of style\\nYou got that long hair, slicked back, white t-shirt\\nAnd I got that good girl faith and a tight little skirt\\nAnd when we go crashing down, we come back every time\\n\\'Cause we never go out of style, we never go out of style\\n\\n[Verse 2]\\nSo it goes\\nHe can\\'t keep his wild eyes on the road, mmm\\nTakes me home\\nThe lights are off, he\\'s taking off his coat, mmm, yeah\\nI say, \"I heard, oh\\nThat you\\'ve been out and about with some other girl\"\\nSome other girl\\n\\n[Pre-Chorus]\\nHe says, \"What you heard is true\\nBut I can\\'t stop thinking \\'bout you and I\"\\nI said, \"I\\'ve been there too a few times\"\\n\\n[Chorus]\\n\\'Cause you got that James Dean daydream look in your eye\\nAnd I got that red lip classic thing that you like\\nAnd when we go crashing down, we come back every time\\n\\'Cause we never go out of style, we never go out of style\\nYou got that long hair, slicked back, white t-shirt\\nAnd I got that good girl faith and a tight little skirt (A tight little skirt)\\nAnd when we go crashing down, we come back every time\\n\\'Cause we never go out of style (We never go, we never go)\\nWe never go out of style\\nYou might also like[Bridge]\\nTake me home (Ah-ah-ah-ah-ah)\\nJust take me home (Ah-ah-ah-ah-ah)\\nYeah, just take me home (Ah-ah-ah-ah-ah)\\nOh-oh, woah-oh, oh (Out of style)\\n\\n[Chorus]\\nOh, you got that James Dean daydream look in your eye\\nAnd I got that red lip classic thing that you like\\nAnd when we go crashing down (And when we go)\\nWe come back every time\\n\\'Cause we never go out of style, we never go out of style1KEmbed']\n"
          ]
        }
      ]
    },
    {
      "cell_type": "code",
      "source": [
        "xx = ['151 ContributorsTranslationsTürkçeFrançaisEspañolPortuguêsPolskiStyle Lyrics[Verse 1]\\nMidnight\\nYou come and pick me up, no headlights\\nA long drive\\nCould end in burning flames or paradise\\nFade into view, oh\\nIt\\'s been a while since I have even heard from you\\n(Heard from you)\\n\\n[Pre-Chorus]\\nAnd I should just tell you to leave\\n\\'Cause I know exactly where it leads\\nBut I watch us go \\'round and \\'round each time\\n[Chorus]\\nYou got that James Dean daydream look in your eye\\nAnd I got that red lip classic thing that you like\\nAnd when we go crashing down, we come back every time\\n\\'Cause we never go out of style, we never go out of style\\nYou got that long hair, slicked back, white t-shirt\\nAnd I got that good girl faith and a tight little skirt\\nAnd when we go crashing down, we come back every time\\n\\'Cause we never go out of style, we never go out of style\\n\\n[Verse 2]\\nSo it goes\\nHe can\\'t keep his wild eyes on the road, mmm\\nTakes me home\\nThe lights are off, he\\'s taking off his coat, mmm, yeah\\nI say, \"I heard, oh\\nThat you\\'ve been out and about with some other girl\"\\nSome other girl\\n\\n[Pre-Chorus]\\nHe says, \"What you heard is true\\nBut I can\\'t stop thinking \\'bout you and I\"\\nI said, \"I\\'ve been there too a few times\"\\n\\n[Chorus]\\n\\'Cause you got that James Dean daydream look in your eye\\nAnd I got that red lip classic thing that you like\\nAnd when we go crashing down, we come back every time\\n\\'Cause we never go out of style, we never go out of style\\nYou got that long hair, slicked back, white t-shirt\\nAnd I got that good girl faith and a tight little skirt (A tight little skirt)\\nAnd when we go crashing down, we come back every time\\n\\'Cause we never go out of style (We never go, we never go)\\nWe never go out of style\\nYou might also like[Bridge]\\nTake me home (Ah-ah-ah-ah-ah)\\nJust take me home (Ah-ah-ah-ah-ah)\\nYeah, just take me home (Ah-ah-ah-ah-ah)\\nOh-oh, woah-oh, oh (Out of style)\\n\\n[Chorus]\\nOh, you got that James Dean daydream look in your eye\\nAnd I got that red lip classic thing that you like\\nAnd when we go crashing down (And when we go)\\nWe come back every time\\n\\'Cause we never go out of style, we never go out of style1KEmbed']\n",
        "print(str(xx[0]))"
      ],
      "metadata": {
        "colab": {
          "base_uri": "https://localhost:8080/"
        },
        "id": "MMp4HwxCYa13",
        "outputId": "ef088df1-f168-4603-d6bc-b8ff4fb24763"
      },
      "execution_count": 7,
      "outputs": [
        {
          "output_type": "stream",
          "name": "stdout",
          "text": [
            "151 ContributorsTranslationsTürkçeFrançaisEspañolPortuguêsPolskiStyle Lyrics[Verse 1]\n",
            "Midnight\n",
            "You come and pick me up, no headlights\n",
            "A long drive\n",
            "Could end in burning flames or paradise\n",
            "Fade into view, oh\n",
            "It's been a while since I have even heard from you\n",
            "(Heard from you)\n",
            "\n",
            "[Pre-Chorus]\n",
            "And I should just tell you to leave\n",
            "'Cause I know exactly where it leads\n",
            "But I watch us go 'round and 'round each time\n",
            "[Chorus]\n",
            "You got that James Dean daydream look in your eye\n",
            "And I got that red lip classic thing that you like\n",
            "And when we go crashing down, we come back every time\n",
            "'Cause we never go out of style, we never go out of style\n",
            "You got that long hair, slicked back, white t-shirt\n",
            "And I got that good girl faith and a tight little skirt\n",
            "And when we go crashing down, we come back every time\n",
            "'Cause we never go out of style, we never go out of style\n",
            "\n",
            "[Verse 2]\n",
            "So it goes\n",
            "He can't keep his wild eyes on the road, mmm\n",
            "Takes me home\n",
            "The lights are off, he's taking off his coat, mmm, yeah\n",
            "I say, \"I heard, oh\n",
            "That you've been out and about with some other girl\"\n",
            "Some other girl\n",
            "\n",
            "[Pre-Chorus]\n",
            "He says, \"What you heard is true\n",
            "But I can't stop thinking 'bout you and I\"\n",
            "I said, \"I've been there too a few times\"\n",
            "\n",
            "[Chorus]\n",
            "'Cause you got that James Dean daydream look in your eye\n",
            "And I got that red lip classic thing that you like\n",
            "And when we go crashing down, we come back every time\n",
            "'Cause we never go out of style, we never go out of style\n",
            "You got that long hair, slicked back, white t-shirt\n",
            "And I got that good girl faith and a tight little skirt (A tight little skirt)\n",
            "And when we go crashing down, we come back every time\n",
            "'Cause we never go out of style (We never go, we never go)\n",
            "We never go out of style\n",
            "You might also like[Bridge]\n",
            "Take me home (Ah-ah-ah-ah-ah)\n",
            "Just take me home (Ah-ah-ah-ah-ah)\n",
            "Yeah, just take me home (Ah-ah-ah-ah-ah)\n",
            "Oh-oh, woah-oh, oh (Out of style)\n",
            "\n",
            "[Chorus]\n",
            "Oh, you got that James Dean daydream look in your eye\n",
            "And I got that red lip classic thing that you like\n",
            "And when we go crashing down (And when we go)\n",
            "We come back every time\n",
            "'Cause we never go out of style, we never go out of style1KEmbed\n"
          ]
        }
      ]
    },
    {
      "cell_type": "code",
      "source": [
        "gpt2.generate(sess,\n",
        "              # length=1800,\n",
        "              temperature=0.7,\n",
        "              prefix=\"Style Lyrics[Verse 1]\\nMidnight\\nYou come and pick me up, no headlights\\nA long drive\\n\",\n",
        "              truncate=\"<|endoftext|>\"\n",
        "              # nsamples=5,\n",
        "              # batch_size=5\n",
        "              )"
      ],
      "metadata": {
        "colab": {
          "base_uri": "https://localhost:8080/"
        },
        "id": "uvyI7EKiX97-",
        "outputId": "6b9063cd-9139-41c0-f436-1f0f42da05ea"
      },
      "execution_count": 10,
      "outputs": [
        {
          "output_type": "stream",
          "name": "stdout",
          "text": [
            "Style Lyrics[Verse 1]\n",
            "Midnight\n",
            "You come and pick me up, no headlights\n",
            "A long drive\n",
            "I'm fine, just slow\n",
            "Just a half-moon in the sky\n",
            "I wonder if you knew\n",
            "I was dancing with you\n",
            "\n",
            "[Chorus]\n",
            "Oh, I can't\n",
            "Stop you putting roots in my dreamland\n",
            "My house of stone, your ivy grows\n",
            "And now I'm covered\n",
            "Baby, you and me are gonna roll\n",
            "Now, I'm all about you\n",
            "[Verse 2]\n",
            "Spinning like a girl in a brand new dress\n",
            "Dancing to myself, miss\n",
            "You and me are gonna roll\n",
            "Now, I'm all about you\n",
            "\n",
            "[Chorus]\n",
            "Oh, I can't\n",
            "Stop you putting roots in my dreamland\n",
            "My house of stone, your ivy grows\n",
            "And now I'm covered\n",
            "Baby, you and me are gonna roll\n",
            "Now, I'm all about you\n",
            "You might also like[Bridge]\n",
            "No one likes a king\n",
            "King is the loud guy\n",
            "And I'm the messy ending\n",
            "Of the endearing couple\n",
            "Who doesn't like drama, drama doesn't care\n",
            "Who doesn't like a fight or a lonesome\n",
            "And I'm fine\n",
            "\n",
            "[Chorus]\n",
            "But I can't\n",
            "Stop you putting roots in my dreamland\n",
            "My house of stone, your ivy grows\n",
            "And now I'm covered\n",
            "Baby, you and me are gonna roll\n",
            "Now, I'm all about you\n",
            "And I was dancing with you\n",
            "[Outro]\n",
            "I was dancing with you\n",
            "Oh, I can't\n",
            "Stop you putting roots in my dreamland\n",
            "My house of stone, your ivy grows\n",
            "And now I'm covered\n",
            "Baby, you and me are gonna roll\n",
            "Now, I'm all about you\n",
            "And I was dancing with you\n",
            "(And I was dancing with you)\n",
            "I was dancing with you\n",
            "\n",
            "[Instrumental Break]\n",
            "\n",
            "[Chorus]\n",
            "Oh, I can't\n",
            "Stop you putting roots in my dreamland\n",
            "My house of stone, your ivy grows\n",
            "And now I'm covered\n",
            "Baby, you and me are gonna roll\n",
            "Now, I'm all about you\n",
            "And I was dancing with you\n",
            "(And I was dancing with you)\n",
            "I was dancing with you\n",
            "\n",
            "[Outro]\n",
            "With you\n",
            "And I was dancing with you\n",
            "I was dancing with youEmbed\n"
          ]
        }
      ]
    },
    {
      "cell_type": "code",
      "source": [
        "gen_file = 'gpt2_gentext_{:%Y%m%d_%H%M%S}.txt'.format(datetime.utcnow())\n",
        "\n",
        "gpt2.generate(sess,\n",
        "              destination_path=gen_file,\n",
        "              temperature=0.7,\n",
        "              return_as_list=True,\n",
        "              prefix=\"Style Lyrics[Verse 1]\\nMidnight\\nYou come and pick me up, no headlights\\nA long drive\\n\",\n",
        "              truncate=\"<|endoftext|>\"\n",
        "              )"
      ],
      "metadata": {
        "colab": {
          "base_uri": "https://localhost:8080/"
        },
        "id": "Ka53TPMRX9-j",
        "outputId": "62cec37d-1885-4d83-c21c-e68f940165c7"
      },
      "execution_count": 11,
      "outputs": [
        {
          "output_type": "execute_result",
          "data": {
            "text/plain": [
              "['Style Lyrics[Verse 1]\\nMidnight\\nYou come and pick me up, no headlights\\nA long drive\\nI\\'m passed beautiful women\\nAnd I notice you at your most repulsive\\nWhen you\\'re least there\\nIt\\'s a sad, beautiful, old love\\nOld as time\\nNew as sin\\n\\n[Pre-Chorus]\\nBut don\\'t forget about the stars\\nThey guide you truthfully\\nNo star is ever mine\\nAnd for you, I would follow my self\\nLike a god\\n\\n[Chorus]\\nBest believe I\\'m still bejeweled\\nWhen I walk in the room\\nI can still make the whole place shimmer\\nAnd when I meet the band\\nThey ask, \"Do you have a man?\"\\nI could still say, \"I don\\'t remember\"\\nFamiliarity breeds contempt\\nDon\\'t put me in the basement\\nWhen I want the penthouse of your heart\\nDiamonds in my eyes\\nI polish up real, I polish up real nice\\n\\n[Verse 2]\\nWhat should be over burrowеd under my skin\\nIn heart-stopping waves of hurt\\nI\\'vе come too far to watch some namedropping sleaze\\nTell me what are my words worth\\n\\n[Pre-Chorus]\\nI wanna be alone\\nBut there\\'s no one else\\nI can\\'t get married\\n\\n[Chorus]\\nBest believe I\\'m still bejeweled\\nWhen I walk in the room\\nI can still make the whole place shimmer\\nAnd when I meet the band\\nThey ask, \"Do you have a man?\"\\nI could still say, \"I don\\'t remember\"\\nFamiliarity breeds contempt\\nDon\\'t put me in the basement\\nWhen I want the penthouse of your heart\\nDiamonds in my eyes\\nI polish up real, I polish up real nice\\nYou might also like[Post-Chorus]\\nAnd they\\'ll say\\nI\\'m still bejeweled\\nWhen I walk in the room\\nI can still make the whole place shimmer\\nAnd when I meet the band\\nThey ask, \"Do you have a man?\"\\nI could still say, \"I don\\'t remember\"\\nFamiliarity breeds contempt\\nDon\\'t put me in the basement\\nWhen I want the penthouse of your heart\\nDiamonds in my eyes\\nI polish up real, I polish up real nice\\n\\n[Bridge]\\nAnd I can see us twisted in bedsheets\\nSomewhere off the beaten track\\nWе on the immune system\\n\\n[Chorus]\\nBest believe I\\'m still bejeweled\\nWhen I walk in the room\\nI can still make the whole place shimmer (Shimmer)\\nAnd when I meet the band\\nThey ask, \"Do you have a man?\"\\nI could still say, \"I don\\'t remember\"\\nFamiliarity breeds contempt\\nDon\\'t put me in the basement\\nWhen I want the penthouse of your heart\\nDiamonds in my eyes\\nI polish up real (Nice)\\nI polish up real nice\\n[Outro]\\nAnd they\\'ll say\\nI\\'m still bejeweled\\nWhen I walk in the room\\nI can still make the whole place shimmer28Embed']"
            ]
          },
          "metadata": {},
          "execution_count": 11
        }
      ]
    },
    {
      "cell_type": "code",
      "source": [
        "with open('/content/gpt2_gentext_20230529_121414.txt','r') as f:\n",
        "    xd = f.read()"
      ],
      "metadata": {
        "id": "TbcxTZSSbjYl"
      },
      "execution_count": 13,
      "outputs": []
    },
    {
      "cell_type": "code",
      "source": [
        "!pip install rouge"
      ],
      "metadata": {
        "colab": {
          "base_uri": "https://localhost:8080/"
        },
        "id": "ikuuJhQxbjbc",
        "outputId": "85151960-5fab-4261-dc0e-690d835a4fcb"
      },
      "execution_count": 12,
      "outputs": [
        {
          "output_type": "stream",
          "name": "stdout",
          "text": [
            "Looking in indexes: https://pypi.org/simple, https://us-python.pkg.dev/colab-wheels/public/simple/\n",
            "Collecting rouge\n",
            "  Downloading rouge-1.0.1-py3-none-any.whl (13 kB)\n",
            "Requirement already satisfied: six in /usr/local/lib/python3.10/dist-packages (from rouge) (1.16.0)\n",
            "Installing collected packages: rouge\n",
            "Successfully installed rouge-1.0.1\n"
          ]
        }
      ]
    },
    {
      "cell_type": "code",
      "source": [
        "from rouge import Rouge\n",
        "rouge=Rouge()\n",
        "\n",
        "rouge.get_scores(xd, xx[0], avg=True, ignore_empty=True)"
      ],
      "metadata": {
        "colab": {
          "base_uri": "https://localhost:8080/"
        },
        "id": "vazPm-lcbjd7",
        "outputId": "e4732a78-3442-4278-f8a4-4ab7dd2744b2"
      },
      "execution_count": 14,
      "outputs": [
        {
          "output_type": "execute_result",
          "data": {
            "text/plain": [
              "{'rouge-1': {'r': 0.28994082840236685,\n",
              "  'p': 0.30246913580246915,\n",
              "  'f': 0.29607250255510636},\n",
              " 'rouge-2': {'r': 0.08860759493670886,\n",
              "  'p': 0.09813084112149532,\n",
              "  'f': 0.09312638082231678},\n",
              " 'rouge-l': {'r': 0.1834319526627219,\n",
              "  'p': 0.19135802469135801,\n",
              "  'f': 0.18731117324997046}}"
            ]
          },
          "metadata": {},
          "execution_count": 14
        }
      ]
    }
  ]
}